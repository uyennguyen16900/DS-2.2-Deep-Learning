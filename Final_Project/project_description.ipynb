{
 "cells": [
  {
   "cell_type": "markdown",
   "metadata": {},
   "source": [
    "## Fire Image Classification\n",
    "\n",
    "- Download this dataset -> https://github.com/cair/Fire-Detection-Image-Dataset\n",
    "\n",
    "- Create a dataframe like this for each folder -> Assign label 1 for fire images and label 0 for normal images\n",
    "\n",
    "<img src=\"sample_df.png\" width=\"600\" height=\"600\">\n",
    "\n",
    "- Merge dataframes -> then save the total df as a csv file\n",
    "\n",
    "- Train a CNN + MLP model while using `.fit_generator` way (Do remember to Resize all images)"
   ]
  },
  {
   "cell_type": "markdown",
   "metadata": {},
   "source": [
    "## To make the model better:\n",
    "\n",
    "- Upsample minority class (fire images) -> https://elitedatascience.com/imbalanced-classes?_ga=2.44533796.1624997989.1593199508-1623274989.1547664151\n",
    "\n",
    "- Do Data Augmentation for each image \n",
    "\n",
    "- Hyper-parameters tuning"
   ]
  },
  {
   "cell_type": "code",
   "execution_count": null,
   "metadata": {},
   "outputs": [],
   "source": []
  }
 ],
 "metadata": {
  "kernelspec": {
   "display_name": "Python 3",
   "language": "python",
   "name": "python3"
  },
  "language_info": {
   "codemirror_mode": {
    "name": "ipython",
    "version": 3
   },
   "file_extension": ".py",
   "mimetype": "text/x-python",
   "name": "python",
   "nbconvert_exporter": "python",
   "pygments_lexer": "ipython3",
   "version": "3.6.5"
  }
 },
 "nbformat": 4,
 "nbformat_minor": 2
}
